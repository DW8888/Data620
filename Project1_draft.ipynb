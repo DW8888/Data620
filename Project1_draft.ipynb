{
 "cells": [
  {
   "cell_type": "markdown",
   "id": "75ea10b5",
   "metadata": {},
   "source": [
    "# Assignment: Centrality Measures & Network Data\n",
    "\n",
    "## Dataset Identification\n",
    "For this assignment, I will use a **labeled network dataset** available on Kaggle, which contains reference information among various information sources such as **newspapers, TV stations, and online outlets**.  \n",
    "[Dataset: Network Analysis Data from Various Sources](https://www.kaggle.com/datasets/rahulgoel1106/network-analysis-data-from-various-sources)\n",
    "\n",
    "The dataset includes two files:\n",
    "\n",
    "- **InputFileEdges.csv**\n",
    "  - `from`: source node ID (media outlet)\n",
    "  - `to`: target node ID (media outlet)\n",
    "  - `weight`: number of times they were connected (citations or mentions)\n",
    "  - `type`: type of link (hyperlink or mention)\n",
    "\n",
    "- **InputFileNodes.csv**\n",
    "  - `id`: unique node ID\n",
    "  - `media`: name of the media outlet (e.g., *NY Times*, *Wall Street Journal*)\n",
    "  - `media.type`: numeric type (1 = Newspaper, 2 = TV, 3 = Online)\n",
    "  - `type.label`: categorical label (Newspaper, TV, Online)\n",
    "  - `audience.size`: audience size of each media outlet\n",
    "\n",
    "\n",
    "\n",
    "## High-Level Plan for Analysis\n",
    "1. **Load Data**  \n",
    "   - Download the datasets via the `kaggle api`.  \n",
    "   - Use Python’s `pandas` to read the node and edge CSV files.  \n",
    "   - Build the network using `networkx`:  \n",
    "     - Add edges from `InputFileEdges.csv`.  \n",
    "     - Attach node attributes from `InputFileNodes.csv`.  \n",
    "\n",
    "2. **Compute Centrality Measures**  \n",
    "   - Degree centrality: number of direct connections (references).  \n",
    "   - Betweenness centrality: which outlets bridge across groups.  \n",
    "   - Eigenvector centrality: which outlets are connected to other influential outlets.  \n",
    "\n",
    "3. **Compare Across Categories**  \n",
    "   - Group results by `type.label` (Newspaper, TV, Online).  \n",
    "   - Compare average degree centrality between categories.  \n",
    "\n",
    "4. **Plot Network**  \n",
    "   - Visualize the network to identify connectivity, centrality, and node placement.  \n",
    "\n",
    "\n",
    "\n",
    "## Hypothetical Outcome\n",
    "By comparing degree centrality across categories, we could predict which type of media outlet is most influential in shaping information flows.\n",
    "\n",
    "- **Hypothesis**: Online outlets will show higher average degree centrality because they are more frequently cross-linked and referenced compared to traditional TV and newspapers.  \n",
    "- **Positive outcome**: Identifying which media type dominates information flow.  \n",
    "\n"
   ]
  }
 ],
 "metadata": {
  "language_info": {
   "name": "python"
  }
 },
 "nbformat": 4,
 "nbformat_minor": 5
}
